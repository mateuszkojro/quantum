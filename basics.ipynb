{
 "cells": [
  {
   "cell_type": "markdown",
   "id": "8342aa03",
   "metadata": {},
   "source": [
    "# Intro\n",
    "\n",
    "Learning the basisc of the Quantum computers using `Qiskit` mainly from:\n",
    "\n",
    "<https://qiskit.org/textbook/>"
   ]
  },
  {
   "cell_type": "code",
   "execution_count": 1,
   "id": "efc1e0d8",
   "metadata": {},
   "outputs": [],
   "source": [
    "import numpy as np\n",
    "# Importing standard Qiskit libraries\n",
    "from qiskit import QuantumCircuit, transpile, Aer, IBMQ, assemble\n",
    "from qiskit.tools.jupyter import *\n",
    "from qiskit.visualization import *\n",
    "from ibm_quantum_widgets import *\n",
    "\n",
    "# Loading your IBM Quantum account(s)\n",
    "# provider = IBMQ.load_account()"
   ]
  },
  {
   "cell_type": "markdown",
   "id": "ecdde844-903e-4af5-8b12-905a5070bca1",
   "metadata": {},
   "source": [
    "# Basic circut\n",
    "\n",
    "To create a basic circuit we can use a `QuantumCircuit` function to wich we pass the number of qubits to use and number off output bits"
   ]
  },
  {
   "cell_type": "code",
   "execution_count": 2,
   "id": "7b00bfa7-4968-4586-9b9c-11ab11baf814",
   "metadata": {},
   "outputs": [],
   "source": [
    "qc = QuantumCircuit(1,1)"
   ]
  },
  {
   "cell_type": "markdown",
   "id": "179c74ea-f20c-40ab-be91-664d1ddaefa2",
   "metadata": {},
   "source": [
    "than we can drop in a quantum gate `x` wich negates the input and `measure` to write the output of the quantum bit to the ordinary output bit. At the begining all qubits start with `1`"
   ]
  },
  {
   "cell_type": "code",
   "execution_count": 3,
   "id": "90b94dbe-f25f-4641-8ca7-6f275c312748",
   "metadata": {},
   "outputs": [
    {
     "data": {
      "text/plain": [
       "<qiskit.circuit.instructionset.InstructionSet at 0x7ff84810b070>"
      ]
     },
     "execution_count": 3,
     "metadata": {},
     "output_type": "execute_result"
    }
   ],
   "source": [
    "qc.x(0)\n",
    "qc.measure(0,0)"
   ]
  },
  {
   "cell_type": "markdown",
   "id": "f748160a-9d51-424a-8669-ea01ada4f98c",
   "metadata": {},
   "source": [
    "Than we can draw our created circuit"
   ]
  },
  {
   "cell_type": "code",
   "execution_count": 4,
   "id": "67f72e7d-dd89-4aa4-b8a5-a8acc920e8f5",
   "metadata": {},
   "outputs": [
    {
     "data": {
      "text/html": [
       "<pre style=\"word-wrap: normal;white-space: pre;background: #fff0;line-height: 1.1;font-family: &quot;Courier New&quot;,Courier,monospace\">     ┌───┐┌─┐\n",
       "q_0: ┤ X ├┤M├\n",
       "     └───┘└╥┘\n",
       "c: 1/══════╩═\n",
       "           0 </pre>"
      ],
      "text/plain": [
       "     ┌───┐┌─┐\n",
       "q_0: ┤ X ├┤M├\n",
       "     └───┘└╥┘\n",
       "c: 1/══════╩═\n",
       "           0 "
      ]
     },
     "execution_count": 4,
     "metadata": {},
     "output_type": "execute_result"
    }
   ],
   "source": [
    "qc.draw()"
   ]
  },
  {
   "cell_type": "markdown",
   "id": "6c0ca83e-6869-4df2-b4b0-fadceeb943fe",
   "metadata": {},
   "source": [
    "# Creating a simple *Adder*\n",
    "We can start by creating a circuit with 4 qubits and 2 out bits"
   ]
  },
  {
   "cell_type": "code",
   "execution_count": 5,
   "id": "ec4bd710-5d21-4bf6-8e9a-95ae878cf6a1",
   "metadata": {},
   "outputs": [
    {
     "data": {
      "text/plain": [
       "<qiskit.circuit.instructionset.InstructionSet at 0x7ff7be9d68e0>"
      ]
     },
     "execution_count": 5,
     "metadata": {},
     "output_type": "execute_result"
    }
   ],
   "source": [
    "adder = QuantumCircuit(4,2)\n",
    "\n",
    "# encode inputs in qubits 0 and 1\n",
    "adder.x(0) # For a=0, remove the this line. For a=1, leave it.\n",
    "adder.x(1) # For b=0, remove the this line. For b=1, leave it."
   ]
  },
  {
   "cell_type": "markdown",
   "id": "3dd1f07e-e51a-48d3-9eac-f420ee842529",
   "metadata": {},
   "source": [
    "We can visualy separate parts of the circuit using"
   ]
  },
  {
   "cell_type": "code",
   "execution_count": 6,
   "id": "e65df955-8bc8-4de1-92e7-6ee5ac6cd5cc",
   "metadata": {},
   "outputs": [
    {
     "data": {
      "text/plain": [
       "<qiskit.circuit.instructionset.InstructionSet at 0x7ff7be9d6100>"
      ]
     },
     "execution_count": 6,
     "metadata": {},
     "output_type": "execute_result"
    }
   ],
   "source": [
    "adder.barrier()"
   ]
  },
  {
   "cell_type": "markdown",
   "id": "f9bd3b40-6188-459a-9e82-265437e82665",
   "metadata": {},
   "source": [
    "To create an standard half adder we need an `XOR` and `AND` gates. On the quantum computer we need quantum gates:\n",
    "\n",
    "- `CNOT` - Look at $2$ inputs then if inputs are the same overwrites the target with 0 if not with 1, Other way of looking at it does `NOT` on target if the control is $1$\n",
    "\n",
    "`CNOT` - `@cx()`\n",
    "\n",
    "| Input ($q_1$, $q_0$) |  Output ($q_1$, $q_0$) |\n",
    "|----------------------|------------------------|\n",
    "|          $00$          |   $00$                   |\n",
    "|          $01$          |   $11$                   |\n",
    "|          $10$          |   $10$                   |\n",
    "|          $11$          |   $01$                   |\n",
    "\n",
    "just by implementig that we get the sum of the numbers, we now need to implement tha *carry* bit\n",
    "\n",
    "the carry bit is $1$ only when both inputs are $1$ in standard computing we would use for that an `AND` gate in quantum computiong we use its equivalent - `Toffoli` gate (`(@cxx()`)\n",
    "\n",
    "combining that we can create a circuit:"
   ]
  },
  {
   "cell_type": "code",
   "execution_count": 7,
   "id": "92473e7f",
   "metadata": {},
   "outputs": [
    {
     "data": {
      "text/html": [
       "<pre style=\"word-wrap: normal;white-space: pre;background: #fff0;line-height: 1.1;font-family: &quot;Courier New&quot;,Courier,monospace\">     ┌───┐ ░                 ░       \n",
       "q_0: ┤ X ├─░───■─────────■───░───────\n",
       "     ├───┤ ░   │         │   ░       \n",
       "q_1: ┤ X ├─░───┼────■────■───░───────\n",
       "     └───┘ ░ ┌─┴─┐┌─┴─┐  │   ░ ┌─┐   \n",
       "q_2: ──────░─┤ X ├┤ X ├──┼───░─┤M├───\n",
       "           ░ └───┘└───┘┌─┴─┐ ░ └╥┘┌─┐\n",
       "q_3: ──────░───────────┤ X ├─░──╫─┤M├\n",
       "           ░           └───┘ ░  ║ └╥┘\n",
       "c: 2/═══════════════════════════╩══╩═\n",
       "                                0  1 </pre>"
      ],
      "text/plain": [
       "     ┌───┐ ░                 ░       \n",
       "q_0: ┤ X ├─░───■─────────■───░───────\n",
       "     ├───┤ ░   │         │   ░       \n",
       "q_1: ┤ X ├─░───┼────■────■───░───────\n",
       "     └───┘ ░ ┌─┴─┐┌─┴─┐  │   ░ ┌─┐   \n",
       "q_2: ──────░─┤ X ├┤ X ├──┼───░─┤M├───\n",
       "           ░ └───┘└───┘┌─┴─┐ ░ └╥┘┌─┐\n",
       "q_3: ──────░───────────┤ X ├─░──╫─┤M├\n",
       "           ░           └───┘ ░  ║ └╥┘\n",
       "c: 2/═══════════════════════════╩══╩═\n",
       "                                0  1 "
      ]
     },
     "execution_count": 7,
     "metadata": {},
     "output_type": "execute_result"
    }
   ],
   "source": [
    "# 0 and 1 are input qubits\n",
    "\n",
    "# use cnots to write the XOR of the inputs on qubit 2\n",
    "adder.cx(0,2)\n",
    "adder.cx(1,2)\n",
    "\n",
    "# use ccx to write the AND (Toffoli) of the inputs on qubit 3\n",
    "adder.ccx(0,1,3)\n",
    "\n",
    "# Visual separation between inpus and the working circuit\n",
    "adder.barrier()\n",
    "\n",
    "# Measure the values on both output qubits\n",
    "adder.measure(2,0) # get the value from the eqiv to XOR\n",
    "adder.measure(3,1) # get the value from the eqiv to AND\n",
    "adder.draw() # Show the circuit"
   ]
  },
  {
   "cell_type": "markdown",
   "id": "bea0e6d7",
   "metadata": {},
   "source": [
    "We can now simulate behaviour of this circuit using the `aer_simulator`:"
   ]
  },
  {
   "cell_type": "code",
   "execution_count": 8,
   "id": "b6a1e731",
   "metadata": {},
   "outputs": [
    {
     "data": {
      "image/png": "[encoded data removed]",
      "text/plain": [
       "<Figure size 504x360 with 1 Axes>"
      ]
     },
     "execution_count": 8,
     "metadata": {},
     "output_type": "execute_result"
    }
   ],
   "source": [
    "sim = Aer.get_backend('aer_simulator')\n",
    "qobj = assemble(adder) # Create qskit circuit\n",
    "counts = sim.run(qobj).result().get_counts() # Simulate and get results\n",
    "plot_histogram(counts) # Plot results"
   ]
  },
  {
   "cell_type": "code",
   "execution_count": 9,
   "id": "27057922",
   "metadata": {},
   "outputs": [],
   "source": [
    "from qiskit import QuantumCircuit, assemble, Aer\n",
    "from qiskit.visualization import plot_histogram, plot_bloch_vector\n",
    "from math import sqrt, pi"
   ]
  },
  {
   "cell_type": "code",
   "execution_count": 10,
   "id": "0e13ae29",
   "metadata": {},
   "outputs": [
    {
     "data": {
      "text/html": [
       "<pre style=\"word-wrap: normal;white-space: pre;background: #fff0;line-height: 1.1;font-family: &quot;Courier New&quot;,Courier,monospace\">     ┌─────────────────┐\n",
       "q_0: ┤ initialize(0,1) ├\n",
       "     └─────────────────┘</pre>"
      ],
      "text/plain": [
       "     ┌─────────────────┐\n",
       "q_0: ┤ initialize(0,1) ├\n",
       "     └─────────────────┘"
      ]
     },
     "execution_count": 10,
     "metadata": {},
     "output_type": "execute_result"
    }
   ],
   "source": [
    "qc = QuantumCircuit(1) # Create a quantum circuit with one qubit\n",
    "initial_state = [0, 1]\n",
    "qc.initialize(initial_state, 0)\n",
    "qc.draw()"
   ]
  },
  {
   "cell_type": "code",
   "execution_count": 11,
   "id": "ba253a33",
   "metadata": {},
   "outputs": [],
   "source": [
    "sim = Aer.get_backend('aer_simulator')  # Tell Qiskit how to simulate our circuit\n",
    "qc.save_statevector()   # Tell simulator to save statevector\n",
    "qobj = assemble(qc)     # Create a Qobj from the circuit for the simulator to run\n",
    "result = sim.run(qobj).result()"
   ]
  },
  {
   "cell_type": "code",
   "execution_count": 12,
   "id": "524f5920",
   "metadata": {},
   "outputs": [
    {
     "name": "stdout",
     "output_type": "stream",
     "text": [
      "[0.+0.j 1.+0.j]\n"
     ]
    }
   ],
   "source": [
    "out_state = result.get_statevector()\n",
    "print(out_state) # Display the output state vector"
   ]
  },
  {
   "cell_type": "code",
   "execution_count": 13,
   "id": "7f17df6c",
   "metadata": {
    "scrolled": true
   },
   "outputs": [
    {
     "data": {
      "text/html": [
       "<pre style=\"word-wrap: normal;white-space: pre;background: #fff0;line-height: 1.1;font-family: &quot;Courier New&quot;,Courier,monospace\">        ┌─────────────────┐ ░  ░ ┌─┐\n",
       "   q_0: ┤ initialize(0,1) ├─░──░─┤M├\n",
       "        └─────────────────┘ ░  ░ └╥┘\n",
       "meas: 1/══════════════════════════╩═\n",
       "                                  0 </pre>"
      ],
      "text/plain": [
       "        ┌─────────────────┐ ░  ░ ┌─┐\n",
       "   q_0: ┤ initialize(0,1) ├─░──░─┤M├\n",
       "        └─────────────────┘ ░  ░ └╥┘\n",
       "meas: 1/══════════════════════════╩═\n",
       "                                  0 "
      ]
     },
     "execution_count": 13,
     "metadata": {},
     "output_type": "execute_result"
    }
   ],
   "source": [
    "qc.measure_all()\n",
    "qc.draw()"
   ]
  },
  {
   "cell_type": "code",
   "execution_count": 14,
   "id": "d4582fae",
   "metadata": {},
   "outputs": [
    {
     "data": {
      "image/png": "[encoded data removed]",
      "text/plain": [
       "<Figure size 504x360 with 1 Axes>"
      ]
     },
     "execution_count": 14,
     "metadata": {},
     "output_type": "execute_result"
    }
   ],
   "source": [
    "counts = result.get_counts()\n",
    "plot_histogram(counts)"
   ]
  },
  {
   "cell_type": "code",
   "execution_count": 15,
   "id": "262b6c04",
   "metadata": {},
   "outputs": [
    {
     "name": "stdout",
     "output_type": "stream",
     "text": [
      "[0.57735027+0.j 0.81649658+0.j]\n"
     ]
    }
   ],
   "source": [
    "initial_state = [1/sqrt(3), sqrt(2)/sqrt(3)]  # Define state |q_0>\n",
    "qc = QuantumCircuit(1) # Must redefine qc\n",
    "qc.initialize(initial_state, 0) # Initialize the 0th qubit in the state `initial_state`\n",
    "qc.save_statevector() # Save statevector\n",
    "qobj = assemble(qc)\n",
    "state = sim.run(qobj).result().get_statevector() # Execute the circuit\n",
    "print(state)           # Print the result"
   ]
  },
  {
   "cell_type": "code",
   "execution_count": 16,
   "id": "2a3f0f1f",
   "metadata": {
    "scrolled": true
   },
   "outputs": [
    {
     "data": {
      "image/png": "[encoded data removed]",
      "text/plain": [
       "<Figure size 504x360 with 1 Axes>"
      ]
     },
     "execution_count": 16,
     "metadata": {},
     "output_type": "execute_result"
    }
   ],
   "source": [
    "qobj = assemble(qc)\n",
    "results = sim.run(qobj).result().get_counts()\n",
    "plot_histogram(results)"
   ]
  },
  {
   "cell_type": "code",
   "execution_count": 17,
   "id": "5849bb14",
   "metadata": {},
   "outputs": [
    {
     "ename": "RuntimeError",
     "evalue": "module compiled against API version 0xe but this version of numpy is 0xd",
     "output_type": "error",
     "traceback": [
      "\u001b[0;31m---------------------------------------------------------------------------\u001b[0m",
      "\u001b[0;31mRuntimeError\u001b[0m                              Traceback (most recent call last)",
      "\u001b[0;31mRuntimeError\u001b[0m: module compiled against API version 0xe but this version of numpy is 0xd"
     ]
    },
    {
     "ename": "ImportError",
     "evalue": "numpy.core.multiarray failed to import",
     "output_type": "error",
     "traceback": [
      "\u001b[0;31m---------------------------------------------------------------------------\u001b[0m",
      "\u001b[0;31mImportError\u001b[0m                               Traceback (most recent call last)",
      "\u001b[0;32m<ipython-input-17-5bb2b23bd2a7>\u001b[0m in \u001b[0;36m<module>\u001b[0;34m\u001b[0m\n\u001b[0;32m----> 1\u001b[0;31m \u001b[0;32mfrom\u001b[0m \u001b[0mqiskit_textbook\u001b[0m\u001b[0;34m.\u001b[0m\u001b[0mwidgets\u001b[0m \u001b[0;32mimport\u001b[0m \u001b[0mplot_bloch_vector_spherical\u001b[0m\u001b[0;34m\u001b[0m\u001b[0;34m\u001b[0m\u001b[0m\n\u001b[0m\u001b[1;32m      2\u001b[0m \u001b[0mcoords\u001b[0m \u001b[0;34m=\u001b[0m \u001b[0;34m[\u001b[0m\u001b[0mpi\u001b[0m\u001b[0;34m/\u001b[0m\u001b[0;36m2\u001b[0m\u001b[0;34m,\u001b[0m\u001b[0;36m0\u001b[0m\u001b[0;34m,\u001b[0m\u001b[0;36m1\u001b[0m\u001b[0;34m]\u001b[0m \u001b[0;31m# [Theta, Phi, Radius]\u001b[0m\u001b[0;34m\u001b[0m\u001b[0;34m\u001b[0m\u001b[0m\n\u001b[1;32m      3\u001b[0m \u001b[0mplot_bloch_vector\u001b[0m\u001b[0;34m(\u001b[0m\u001b[0;34m[\u001b[0m\u001b[0;36m1\u001b[0m\u001b[0;34m,\u001b[0m\u001b[0;36m0\u001b[0m\u001b[0;34m]\u001b[0m\u001b[0;34m)\u001b[0m \u001b[0;31m# Bloch\u001b[0m\u001b[0;34m\u001b[0m\u001b[0;34m\u001b[0m\u001b[0m\n",
      "\u001b[0;32m~/.local/lib/python3.9/site-packages/qiskit_textbook/widgets/__init__.py\u001b[0m in \u001b[0;36m<module>\u001b[0;34m\u001b[0m\n\u001b[1;32m      5\u001b[0m \u001b[0;32mfrom\u001b[0m \u001b[0mqiskit\u001b[0m\u001b[0;34m.\u001b[0m\u001b[0mvisualization\u001b[0m \u001b[0;32mimport\u001b[0m \u001b[0mplot_bloch_vector\u001b[0m\u001b[0;34m\u001b[0m\u001b[0;34m\u001b[0m\u001b[0m\n\u001b[1;32m      6\u001b[0m \u001b[0;32mfrom\u001b[0m \u001b[0mnumpy\u001b[0m \u001b[0;32mimport\u001b[0m \u001b[0msqrt\u001b[0m\u001b[0;34m,\u001b[0m \u001b[0mcos\u001b[0m\u001b[0;34m,\u001b[0m \u001b[0msin\u001b[0m\u001b[0;34m,\u001b[0m \u001b[0mpi\u001b[0m\u001b[0;34m\u001b[0m\u001b[0;34m\u001b[0m\u001b[0m\n\u001b[0;32m----> 7\u001b[0;31m \u001b[0;32mimport\u001b[0m \u001b[0mnumexpr\u001b[0m\u001b[0;34m\u001b[0m\u001b[0;34m\u001b[0m\u001b[0m\n\u001b[0m\u001b[1;32m      8\u001b[0m \u001b[0;32mimport\u001b[0m \u001b[0mre\u001b[0m\u001b[0;34m\u001b[0m\u001b[0;34m\u001b[0m\u001b[0m\n\u001b[1;32m      9\u001b[0m \u001b[0;34m\u001b[0m\u001b[0m\n",
      "\u001b[0;32m/usr/lib64/python3.9/site-packages/numexpr/__init__.py\u001b[0m in \u001b[0;36m<module>\u001b[0;34m\u001b[0m\n\u001b[1;32m     36\u001b[0m \u001b[0;32mimport\u001b[0m \u001b[0mos\u001b[0m\u001b[0;34m,\u001b[0m \u001b[0mos\u001b[0m\u001b[0;34m.\u001b[0m\u001b[0mpath\u001b[0m\u001b[0;34m\u001b[0m\u001b[0;34m\u001b[0m\u001b[0m\n\u001b[1;32m     37\u001b[0m \u001b[0;32mimport\u001b[0m \u001b[0mplatform\u001b[0m\u001b[0;34m\u001b[0m\u001b[0;34m\u001b[0m\u001b[0m\n\u001b[0;32m---> 38\u001b[0;31m \u001b[0;32mfrom\u001b[0m \u001b[0mnumexpr\u001b[0m\u001b[0;34m.\u001b[0m\u001b[0mexpressions\u001b[0m \u001b[0;32mimport\u001b[0m \u001b[0mE\u001b[0m\u001b[0;34m\u001b[0m\u001b[0;34m\u001b[0m\u001b[0m\n\u001b[0m\u001b[1;32m     39\u001b[0m \u001b[0;32mfrom\u001b[0m \u001b[0mnumexpr\u001b[0m\u001b[0;34m.\u001b[0m\u001b[0mnecompiler\u001b[0m \u001b[0;32mimport\u001b[0m \u001b[0mNumExpr\u001b[0m\u001b[0;34m,\u001b[0m \u001b[0mdisassemble\u001b[0m\u001b[0;34m,\u001b[0m \u001b[0mevaluate\u001b[0m\u001b[0;34m,\u001b[0m \u001b[0mre_evaluate\u001b[0m\u001b[0;34m\u001b[0m\u001b[0;34m\u001b[0m\u001b[0m\n\u001b[1;32m     40\u001b[0m \u001b[0;32mfrom\u001b[0m \u001b[0mnumexpr\u001b[0m\u001b[0;34m.\u001b[0m\u001b[0minterpreter\u001b[0m \u001b[0;32mimport\u001b[0m \u001b[0mMAX_THREADS\u001b[0m\u001b[0;34m\u001b[0m\u001b[0;34m\u001b[0m\u001b[0m\n",
      "\u001b[0;32m/usr/lib64/python3.9/site-packages/numexpr/expressions.py\u001b[0m in \u001b[0;36m<module>\u001b[0;34m\u001b[0m\n\u001b[1;32m     47\u001b[0m \u001b[0mscalar_constant_types\u001b[0m \u001b[0;34m=\u001b[0m \u001b[0mtuple\u001b[0m\u001b[0;34m(\u001b[0m\u001b[0mscalar_constant_types\u001b[0m\u001b[0;34m)\u001b[0m\u001b[0;34m\u001b[0m\u001b[0;34m\u001b[0m\u001b[0m\n\u001b[1;32m     48\u001b[0m \u001b[0;34m\u001b[0m\u001b[0m\n\u001b[0;32m---> 49\u001b[0;31m \u001b[0;32mfrom\u001b[0m \u001b[0mnumexpr\u001b[0m \u001b[0;32mimport\u001b[0m \u001b[0minterpreter\u001b[0m\u001b[0;34m\u001b[0m\u001b[0;34m\u001b[0m\u001b[0m\n\u001b[0m\u001b[1;32m     50\u001b[0m \u001b[0;34m\u001b[0m\u001b[0m\n\u001b[1;32m     51\u001b[0m \u001b[0;34m\u001b[0m\u001b[0m\n",
      "\u001b[0;31mImportError\u001b[0m: numpy.core.multiarray failed to import"
     ]
    }
   ],
   "source": [
    "from qiskit_textbook.widgets import plot_bloch_vector_spherical\n",
    "coords = [pi/2,0,1] # [Theta, Phi, Radius]\n",
    "plot_bloch_vector([1,0]) # Bloch\n"
   ]
  },
  {
   "cell_type": "code",
   "execution_count": null,
   "id": "dfe4ae77",
   "metadata": {},
   "outputs": [],
   "source": [
    "from qiskit_textbook.widgets import bloch_calc\n",
    "bloch_calc()"
   ]
  },
  {
   "cell_type": "code",
   "execution_count": null,
   "id": "a2f4a299",
   "metadata": {},
   "outputs": [],
   "source": []
  }
 ],
 "metadata": {
  "kernelspec": {
   "display_name": "Python 3",
   "language": "python",
   "name": "python3"
  },
  "language_info": {
   "codemirror_mode": {
    "name": "ipython",
    "version": 3
   },
   "file_extension": ".py",
   "mimetype": "text/x-python",
   "name": "python",
   "nbconvert_exporter": "python",
   "pygments_lexer": "ipython3",
   "version": "3.9.6"
  },
  "toc-autonumbering": false,
  "toc-showtags": false
 },
 "nbformat": 4,
 "nbformat_minor": 5
}
