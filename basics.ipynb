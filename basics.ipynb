{
 "cells": [
  {
   "cell_type": "code",
   "execution_count": 1,
   "id": "efc1e0d8",
   "metadata": {},
   "outputs": [],
   "source": [
    "import numpy as np\n",
    "# Importing standard Qiskit libraries\n",
    "from qiskit import QuantumCircuit, transpile, Aer, IBMQ, assemble\n",
    "from qiskit.tools.jupyter import *\n",
    "from qiskit.visualization import *\n",
    "from ibm_quantum_widgets import *\n",
    "\n",
    "# Loading your IBM Quantum account(s)\n",
    "# provider = IBMQ.load_account()"
   ]
  },
  {
   "cell_type": "markdown",
   "id": "ecdde844-903e-4af5-8b12-905a5070bca1",
   "metadata": {},
   "source": [
    "# Basic circut\n",
    "\n",
    "To create a basic circuit we can use a `QuantumCircuit` function to wich we pass the number of qubits to use and number off output bits"
   ]
  },
  {
   "cell_type": "code",
   "execution_count": 2,
   "id": "7b00bfa7-4968-4586-9b9c-11ab11baf814",
   "metadata": {},
   "outputs": [],
   "source": [
    "qc = QuantumCircuit(1,1)"
   ]
  },
  {
   "cell_type": "markdown",
   "id": "179c74ea-f20c-40ab-be91-664d1ddaefa2",
   "metadata": {},
   "source": [
    "than we can drop in a quantum gate `x` wich negates the input and `measure` to write the output of the quantum bit to the ordinary output bit. At the begining all qubits start with `1`"
   ]
  },
  {
   "cell_type": "code",
   "execution_count": 3,
   "id": "90b94dbe-f25f-4641-8ca7-6f275c312748",
   "metadata": {},
   "outputs": [
    {
     "data": {
      "text/plain": [
       "<qiskit.circuit.instructionset.InstructionSet at 0x7fb1f5660ac0>"
      ]
     },
     "execution_count": 3,
     "metadata": {},
     "output_type": "execute_result"
    }
   ],
   "source": [
    "qc.x(0)\n",
    "qc.measure(0,0)"
   ]
  },
  {
   "cell_type": "markdown",
   "id": "f748160a-9d51-424a-8669-ea01ada4f98c",
   "metadata": {},
   "source": [
    "Than we can draw our created circuit"
   ]
  },
  {
   "cell_type": "code",
   "execution_count": 4,
   "id": "67f72e7d-dd89-4aa4-b8a5-a8acc920e8f5",
   "metadata": {},
   "outputs": [
    {
     "data": {
      "text/html": [
       "<pre style=\"word-wrap: normal;white-space: pre;background: #fff0;line-height: 1.1;font-family: &quot;Courier New&quot;,Courier,monospace\">     ┌───┐┌─┐\n",
       "q_0: ┤ X ├┤M├\n",
       "     └───┘└╥┘\n",
       "c: 1/══════╩═\n",
       "           0 </pre>"
      ],
      "text/plain": [
       "     ┌───┐┌─┐\n",
       "q_0: ┤ X ├┤M├\n",
       "     └───┘└╥┘\n",
       "c: 1/══════╩═\n",
       "           0 "
      ]
     },
     "execution_count": 4,
     "metadata": {},
     "output_type": "execute_result"
    }
   ],
   "source": [
    "qc.draw()"
   ]
  },
  {
   "cell_type": "markdown",
   "id": "6c0ca83e-6869-4df2-b4b0-fadceeb943fe",
   "metadata": {},
   "source": [
    "# Creating a simple *Adder*\n",
    "We can start by creating a circuit with 4 qubits and 2 out bits"
   ]
  },
  {
   "cell_type": "code",
   "execution_count": 5,
   "id": "ec4bd710-5d21-4bf6-8e9a-95ae878cf6a1",
   "metadata": {},
   "outputs": [
    {
     "data": {
      "text/plain": [
       "<qiskit.circuit.instructionset.InstructionSet at 0x7fb16bcb3be0>"
      ]
     },
     "execution_count": 5,
     "metadata": {},
     "output_type": "execute_result"
    }
   ],
   "source": [
    "adder = QuantumCircuit(4,2)\n",
    "\n",
    "# encode inputs in qubits 0 and 1\n",
    "adder.x(0) # For a=0, remove the this line. For a=1, leave it.\n",
    "adder.x(0) # For b=0, remove the this line. For b=1, leave it."
   ]
  },
  {
   "cell_type": "markdown",
   "id": "3dd1f07e-e51a-48d3-9eac-f420ee842529",
   "metadata": {},
   "source": [
    "We can visualy separate parts of the circuit using"
   ]
  },
  {
   "cell_type": "code",
   "execution_count": 6,
   "id": "e65df955-8bc8-4de1-92e7-6ee5ac6cd5cc",
   "metadata": {},
   "outputs": [
    {
     "data": {
      "text/plain": [
       "<qiskit.circuit.instructionset.InstructionSet at 0x7fb16bc54040>"
      ]
     },
     "execution_count": 6,
     "metadata": {},
     "output_type": "execute_result"
    }
   ],
   "source": [
    "adder.barrier()"
   ]
  },
  {
   "cell_type": "markdown",
   "id": "f9bd3b40-6188-459a-9e82-265437e82665",
   "metadata": {},
   "source": [
    "To create an standard half adder we need an `XOR` and `AND` gates. On the quantum computer we need "
   ]
  },
  {
   "cell_type": "code",
   "execution_count": 7,
   "id": "92473e7f",
   "metadata": {},
   "outputs": [
    {
     "data": {
      "text/html": [
       "<pre style=\"word-wrap: normal;white-space: pre;background: #fff0;line-height: 1.1;font-family: &quot;Courier New&quot;,Courier,monospace\">     ┌───┐┌───┐ ░                 ░       \n",
       "q_0: ┤ X ├┤ X ├─░───■─────────■───░───────\n",
       "     └───┘└───┘ ░   │         │   ░       \n",
       "q_1: ───────────░───┼────■────■───░───────\n",
       "                ░ ┌─┴─┐┌─┴─┐  │   ░ ┌─┐   \n",
       "q_2: ───────────░─┤ X ├┤ X ├──┼───░─┤M├───\n",
       "                ░ └───┘└───┘┌─┴─┐ ░ └╥┘┌─┐\n",
       "q_3: ───────────░───────────┤ X ├─░──╫─┤M├\n",
       "                ░           └───┘ ░  ║ └╥┘\n",
       "c: 2/════════════════════════════════╩══╩═\n",
       "                                     0  1 </pre>"
      ],
      "text/plain": [
       "     ┌───┐┌───┐ ░                 ░       \n",
       "q_0: ┤ X ├┤ X ├─░───■─────────■───░───────\n",
       "     └───┘└───┘ ░   │         │   ░       \n",
       "q_1: ───────────░───┼────■────■───░───────\n",
       "                ░ ┌─┴─┐┌─┴─┐  │   ░ ┌─┐   \n",
       "q_2: ───────────░─┤ X ├┤ X ├──┼───░─┤M├───\n",
       "                ░ └───┘└───┘┌─┴─┐ ░ └╥┘┌─┐\n",
       "q_3: ───────────░───────────┤ X ├─░──╫─┤M├\n",
       "                ░           └───┘ ░  ║ └╥┘\n",
       "c: 2/════════════════════════════════╩══╩═\n",
       "                                     0  1 "
      ]
     },
     "execution_count": 7,
     "metadata": {},
     "output_type": "execute_result"
    }
   ],
   "source": [
    "# use cnots to write the XOR of the inputs on qubit 2\n",
    "adder.cx(0,2)\n",
    "adder.cx(1,2)\n",
    "\n",
    "# use ccx to write the AND of the inputs on qubit 3\n",
    "adder.ccx(0,1,3)\n",
    "\n",
    "# Just some visual barier\n",
    "adder.barrier()\n",
    "\n",
    "# extract outputs\n",
    "adder.measure(2,0) # extract XOR value\n",
    "adder.measure(3,1) # extract AND value\n",
    "adder.draw()"
   ]
  },
  {
   "cell_type": "code",
   "execution_count": 11,
   "id": "b6a1e731",
   "metadata": {},
   "outputs": [
    {
     "data": {
      "image/png": "[encoded data removed]",
      "text/plain": [
       "<Figure size 504x360 with 1 Axes>"
      ]
     },
     "execution_count": 11,
     "metadata": {},
     "output_type": "execute_result"
    }
   ],
   "source": [
    "sim = Aer.get_backend('aer_simulator')\n",
    "qobj = assemble(adder)\n",
    "counts = sim.run(qobj).result().get_counts()\n",
    "plot_histogram(counts)"
   ]
  },
  {
   "cell_type": "code",
   "execution_count": null,
   "id": "27057922",
   "metadata": {},
   "outputs": [],
   "source": [
    "from qiskit import QuantumCircuit, assemble, Aer\n",
    "from qiskit.visualization import plot_histogram, plot_bloch_vector\n",
    "from math import sqrt, pi"
   ]
  },
  {
   "cell_type": "code",
   "execution_count": null,
   "id": "0e13ae29",
   "metadata": {},
   "outputs": [],
   "source": [
    "qc = QuantumCircuit(1) # Create a quantum circuit with one qubit\n",
    "initial_state = [0, 1]\n",
    "qc.initialize(initial_state, 0)\n",
    "qc.draw()"
   ]
  },
  {
   "cell_type": "code",
   "execution_count": null,
   "id": "ba253a33",
   "metadata": {},
   "outputs": [],
   "source": [
    "sim = Aer.get_backend('aer_simulator')  # Tell Qiskit how to simulate our circuit\n",
    "qc.save_statevector()   # Tell simulator to save statevector\n",
    "qobj = assemble(qc)     # Create a Qobj from the circuit for the simulator to run\n",
    "result = sim.run(qobj).result()"
   ]
  },
  {
   "cell_type": "code",
   "execution_count": null,
   "id": "524f5920",
   "metadata": {},
   "outputs": [],
   "source": [
    "out_state = result.get_statevector()\n",
    "print(out_state) # Display the output state vector"
   ]
  },
  {
   "cell_type": "code",
   "execution_count": null,
   "id": "7f17df6c",
   "metadata": {
    "scrolled": true
   },
   "outputs": [],
   "source": [
    "qc.measure_all()\n",
    "qc.draw()"
   ]
  },
  {
   "cell_type": "code",
   "execution_count": null,
   "id": "d4582fae",
   "metadata": {},
   "outputs": [],
   "source": [
    "counts = result.get_counts()\n",
    "plot_histogram(counts)"
   ]
  },
  {
   "cell_type": "code",
   "execution_count": null,
   "id": "262b6c04",
   "metadata": {},
   "outputs": [],
   "source": [
    "initial_state = [1/sqrt(3), sqrt(2)/sqrt(3)]  # Define state |q_0>\n",
    "qc = QuantumCircuit(1) # Must redefine qc\n",
    "qc.initialize(initial_state, 0) # Initialize the 0th qubit in the state `initial_state`\n",
    "qc.save_statevector() # Save statevector\n",
    "qobj = assemble(qc)\n",
    "state = sim.run(qobj).result().get_statevector() # Execute the circuit\n",
    "print(state)           # Print the result"
   ]
  },
  {
   "cell_type": "code",
   "execution_count": null,
   "id": "2a3f0f1f",
   "metadata": {
    "scrolled": true
   },
   "outputs": [],
   "source": [
    "qobj = assemble(qc)\n",
    "results = sim.run(qobj).result().get_counts()\n",
    "plot_histogram(results)"
   ]
  },
  {
   "cell_type": "code",
   "execution_count": null,
   "id": "5849bb14",
   "metadata": {},
   "outputs": [],
   "source": [
    "from qiskit_textbook.widgets import plot_bloch_vector_spherical\n",
    "coords = [pi/2,0,1] # [Theta, Phi, Radius]\n",
    "plot_bloch_vector([1,0]) # Bloch\n"
   ]
  },
  {
   "cell_type": "code",
   "execution_count": null,
   "id": "dfe4ae77",
   "metadata": {},
   "outputs": [],
   "source": [
    "from qiskit_textbook.widgets import bloch_calc\n",
    "bloch_calc()"
   ]
  },
  {
   "cell_type": "code",
   "execution_count": null,
   "id": "a2f4a299",
   "metadata": {},
   "outputs": [],
   "source": []
  }
 ],
 "metadata": {
  "kernelspec": {
   "display_name": "Python 3",
   "language": "python",
   "name": "python3"
  },
  "language_info": {
   "codemirror_mode": {
    "name": "ipython",
    "version": 3
   },
   "file_extension": ".py",
   "mimetype": "text/x-python",
   "name": "python",
   "nbconvert_exporter": "python",
   "pygments_lexer": "ipython3",
   "version": "3.9.5"
  },
  "toc-autonumbering": false,
  "toc-showtags": false
 },
 "nbformat": 4,
 "nbformat_minor": 5
}
